{
 "cells": [
  {
   "cell_type": "code",
   "execution_count": 2,
   "id": "d53a6f45",
   "metadata": {
    "id": "d53a6f45"
   },
   "outputs": [],
   "source": [
    "import pandas as pd\n",
    "import numpy as np\n",
    "import pathlib\n",
    "import matplotlib.pyplot as plt\n",
    "%matplotlib inline"
   ]
  },
  {
   "cell_type": "code",
   "execution_count": null,
   "id": "41362db6",
   "metadata": {
    "id": "41362db6"
   },
   "outputs": [],
   "source": [
    "# Iterating through a dir to concat all population tables spread across tables each for a specific year "
   ]
  },
  {
   "cell_type": "code",
   "execution_count": null,
   "id": "e6eb9355",
   "metadata": {
    "id": "e6eb9355"
   },
   "outputs": [],
   "source": [
    "def feature_extraction(url):\n",
    "    df=pd.read_csv(url,header=2,encoding='ISO-8859-1')\n",
    "    df=df[:2]\n",
    "    df=df.dropna()\n",
    "    df.drop('Code',axis=1,inplace=True)\n",
    "    df.drop(['Persons'],axis=1,inplace=True)\n",
    "    return df\n",
    "\n",
    "def concat_tables(path):\n",
    "    df=pd.DataFrame()\n",
    "    files=[]\n",
    "    directory=pathlib.Path(path)\n",
    "    files=list(directory.glob('**/*'))\n",
    "    for file in files:\n",
    "        df2=feature_extraction(file)\n",
    "        df=pd.concat([df,df2],axis=0)\n",
    "    return df "
   ]
  },
  {
   "cell_type": "code",
   "execution_count": null,
   "id": "48f91ac1",
   "metadata": {
    "id": "48f91ac1"
   },
   "outputs": [],
   "source": [
    "df=concat_tables('data/population')"
   ]
  },
  {
   "cell_type": "code",
   "execution_count": null,
   "id": "d377a263",
   "metadata": {
    "id": "d377a263"
   },
   "outputs": [],
   "source": [
    "# I exported the file to powerbi to be able to decode the features to integers and then loaded the new Dataframe into pandas "
   ]
  },
  {
   "cell_type": "code",
   "execution_count": null,
   "id": "c0f52c55",
   "metadata": {
    "id": "c0f52c55"
   },
   "outputs": [],
   "source": [
    "df.to_csv('to_be_converted.csv') #load in powerbi and change the type of variable to int then save as new dataset under the name of pop in xlsx form"
   ]
  },
  {
   "cell_type": "code",
   "execution_count": null,
   "id": "708c8c99",
   "metadata": {
    "id": "708c8c99"
   },
   "outputs": [],
   "source": [
    "df=pd.read_excel('/content/drive/MyDrive/assignment 2 cetm-46/pop.xlsx',header=1)\n",
    "df['total']=df['Unnamed: 0']\n",
    "df.drop('Unnamed: 0',axis=1,inplace=True)\n",
    "time=pd.date_range(start='1981-1-1',periods=40,freq='Y')\n",
    "df.index=pd.PeriodIndex(pd.Series(time).dt.year,freq='Y')"
   ]
  },
  {
   "cell_type": "code",
   "execution_count": null,
   "id": "fa38106c",
   "metadata": {
    "colab": {
     "base_uri": "https://localhost:8080/",
     "height": 299
    },
    "executionInfo": {
     "elapsed": 216,
     "status": "ok",
     "timestamp": 1652641508598,
     "user": {
      "displayName": "Mahdi Bazzi",
      "userId": "16390925910306107476"
     },
     "user_tz": -60
    },
    "id": "fa38106c",
    "outputId": "9466378d-0395-4899-9335-52afc635e45d"
   },
   "outputs": [
    {
     "data": {
      "text/html": [
       "\n",
       "  <div id=\"df-97c02408-62eb-4a9e-98ef-34adc28f55c8\">\n",
       "    <div class=\"colab-df-container\">\n",
       "      <div>\n",
       "<style scoped>\n",
       "    .dataframe tbody tr th:only-of-type {\n",
       "        vertical-align: middle;\n",
       "    }\n",
       "\n",
       "    .dataframe tbody tr th {\n",
       "        vertical-align: top;\n",
       "    }\n",
       "\n",
       "    .dataframe thead th {\n",
       "        text-align: right;\n",
       "    }\n",
       "</style>\n",
       "<table border=\"1\" class=\"dataframe\">\n",
       "  <thead>\n",
       "    <tr style=\"text-align: right;\">\n",
       "      <th></th>\n",
       "      <th>0</th>\n",
       "      <th>1</th>\n",
       "      <th>2</th>\n",
       "      <th>3</th>\n",
       "      <th>4</th>\n",
       "      <th>5</th>\n",
       "      <th>6</th>\n",
       "      <th>7</th>\n",
       "      <th>8</th>\n",
       "      <th>9</th>\n",
       "      <th>...</th>\n",
       "      <th>82</th>\n",
       "      <th>83</th>\n",
       "      <th>84</th>\n",
       "      <th>85</th>\n",
       "      <th>86</th>\n",
       "      <th>87</th>\n",
       "      <th>88</th>\n",
       "      <th>89</th>\n",
       "      <th>90</th>\n",
       "      <th>total</th>\n",
       "    </tr>\n",
       "  </thead>\n",
       "  <tbody>\n",
       "    <tr>\n",
       "      <th>1981</th>\n",
       "      <td>68529</td>\n",
       "      <td>66723</td>\n",
       "      <td>64065</td>\n",
       "      <td>59568</td>\n",
       "      <td>59023</td>\n",
       "      <td>64515</td>\n",
       "      <td>65573</td>\n",
       "      <td>67271</td>\n",
       "      <td>72378</td>\n",
       "      <td>77976</td>\n",
       "      <td>...</td>\n",
       "      <td>15848</td>\n",
       "      <td>13647</td>\n",
       "      <td>11778</td>\n",
       "      <td>10157</td>\n",
       "      <td>8229</td>\n",
       "      <td>6795</td>\n",
       "      <td>5579</td>\n",
       "      <td>4339</td>\n",
       "      <td>13571</td>\n",
       "      <td>5180200</td>\n",
       "    </tr>\n",
       "    <tr>\n",
       "      <th>1982</th>\n",
       "      <td>66594</td>\n",
       "      <td>68063</td>\n",
       "      <td>66389</td>\n",
       "      <td>63810</td>\n",
       "      <td>59442</td>\n",
       "      <td>58911</td>\n",
       "      <td>64300</td>\n",
       "      <td>65387</td>\n",
       "      <td>66999</td>\n",
       "      <td>72148</td>\n",
       "      <td>...</td>\n",
       "      <td>17295</td>\n",
       "      <td>13930</td>\n",
       "      <td>11934</td>\n",
       "      <td>10173</td>\n",
       "      <td>8634</td>\n",
       "      <td>6863</td>\n",
       "      <td>5547</td>\n",
       "      <td>4459</td>\n",
       "      <td>13709</td>\n",
       "      <td>5164540</td>\n",
       "    </tr>\n",
       "    <tr>\n",
       "      <th>1983</th>\n",
       "      <td>65110</td>\n",
       "      <td>66015</td>\n",
       "      <td>67723</td>\n",
       "      <td>66026</td>\n",
       "      <td>63633</td>\n",
       "      <td>59327</td>\n",
       "      <td>58774</td>\n",
       "      <td>64236</td>\n",
       "      <td>65167</td>\n",
       "      <td>66811</td>\n",
       "      <td>...</td>\n",
       "      <td>17656</td>\n",
       "      <td>15411</td>\n",
       "      <td>12186</td>\n",
       "      <td>10391</td>\n",
       "      <td>8719</td>\n",
       "      <td>7320</td>\n",
       "      <td>5703</td>\n",
       "      <td>4482</td>\n",
       "      <td>14193</td>\n",
       "      <td>5148120</td>\n",
       "    </tr>\n",
       "    <tr>\n",
       "      <th>1984</th>\n",
       "      <td>63669</td>\n",
       "      <td>64796</td>\n",
       "      <td>65713</td>\n",
       "      <td>67520</td>\n",
       "      <td>65844</td>\n",
       "      <td>63560</td>\n",
       "      <td>59244</td>\n",
       "      <td>58710</td>\n",
       "      <td>64015</td>\n",
       "      <td>65132</td>\n",
       "      <td>...</td>\n",
       "      <td>17954</td>\n",
       "      <td>15793</td>\n",
       "      <td>13640</td>\n",
       "      <td>10583</td>\n",
       "      <td>8952</td>\n",
       "      <td>7397</td>\n",
       "      <td>6137</td>\n",
       "      <td>4646</td>\n",
       "      <td>14557</td>\n",
       "      <td>5138880</td>\n",
       "    </tr>\n",
       "    <tr>\n",
       "      <th>1985</th>\n",
       "      <td>65438</td>\n",
       "      <td>63134</td>\n",
       "      <td>64249</td>\n",
       "      <td>65278</td>\n",
       "      <td>67156</td>\n",
       "      <td>65600</td>\n",
       "      <td>63454</td>\n",
       "      <td>59144</td>\n",
       "      <td>58494</td>\n",
       "      <td>63864</td>\n",
       "      <td>...</td>\n",
       "      <td>18555</td>\n",
       "      <td>16069</td>\n",
       "      <td>14023</td>\n",
       "      <td>11979</td>\n",
       "      <td>9111</td>\n",
       "      <td>7659</td>\n",
       "      <td>6221</td>\n",
       "      <td>5055</td>\n",
       "      <td>14998</td>\n",
       "      <td>5127890</td>\n",
       "    </tr>\n",
       "  </tbody>\n",
       "</table>\n",
       "<p>5 rows × 92 columns</p>\n",
       "</div>\n",
       "      <button class=\"colab-df-convert\" onclick=\"convertToInteractive('df-97c02408-62eb-4a9e-98ef-34adc28f55c8')\"\n",
       "              title=\"Convert this dataframe to an interactive table.\"\n",
       "              style=\"display:none;\">\n",
       "        \n",
       "  <svg xmlns=\"http://www.w3.org/2000/svg\" height=\"24px\"viewBox=\"0 0 24 24\"\n",
       "       width=\"24px\">\n",
       "    <path d=\"M0 0h24v24H0V0z\" fill=\"none\"/>\n",
       "    <path d=\"M18.56 5.44l.94 2.06.94-2.06 2.06-.94-2.06-.94-.94-2.06-.94 2.06-2.06.94zm-11 1L8.5 8.5l.94-2.06 2.06-.94-2.06-.94L8.5 2.5l-.94 2.06-2.06.94zm10 10l.94 2.06.94-2.06 2.06-.94-2.06-.94-.94-2.06-.94 2.06-2.06.94z\"/><path d=\"M17.41 7.96l-1.37-1.37c-.4-.4-.92-.59-1.43-.59-.52 0-1.04.2-1.43.59L10.3 9.45l-7.72 7.72c-.78.78-.78 2.05 0 2.83L4 21.41c.39.39.9.59 1.41.59.51 0 1.02-.2 1.41-.59l7.78-7.78 2.81-2.81c.8-.78.8-2.07 0-2.86zM5.41 20L4 18.59l7.72-7.72 1.47 1.35L5.41 20z\"/>\n",
       "  </svg>\n",
       "      </button>\n",
       "      \n",
       "  <style>\n",
       "    .colab-df-container {\n",
       "      display:flex;\n",
       "      flex-wrap:wrap;\n",
       "      gap: 12px;\n",
       "    }\n",
       "\n",
       "    .colab-df-convert {\n",
       "      background-color: #E8F0FE;\n",
       "      border: none;\n",
       "      border-radius: 50%;\n",
       "      cursor: pointer;\n",
       "      display: none;\n",
       "      fill: #1967D2;\n",
       "      height: 32px;\n",
       "      padding: 0 0 0 0;\n",
       "      width: 32px;\n",
       "    }\n",
       "\n",
       "    .colab-df-convert:hover {\n",
       "      background-color: #E2EBFA;\n",
       "      box-shadow: 0px 1px 2px rgba(60, 64, 67, 0.3), 0px 1px 3px 1px rgba(60, 64, 67, 0.15);\n",
       "      fill: #174EA6;\n",
       "    }\n",
       "\n",
       "    [theme=dark] .colab-df-convert {\n",
       "      background-color: #3B4455;\n",
       "      fill: #D2E3FC;\n",
       "    }\n",
       "\n",
       "    [theme=dark] .colab-df-convert:hover {\n",
       "      background-color: #434B5C;\n",
       "      box-shadow: 0px 1px 3px 1px rgba(0, 0, 0, 0.15);\n",
       "      filter: drop-shadow(0px 1px 2px rgba(0, 0, 0, 0.3));\n",
       "      fill: #FFFFFF;\n",
       "    }\n",
       "  </style>\n",
       "\n",
       "      <script>\n",
       "        const buttonEl =\n",
       "          document.querySelector('#df-97c02408-62eb-4a9e-98ef-34adc28f55c8 button.colab-df-convert');\n",
       "        buttonEl.style.display =\n",
       "          google.colab.kernel.accessAllowed ? 'block' : 'none';\n",
       "\n",
       "        async function convertToInteractive(key) {\n",
       "          const element = document.querySelector('#df-97c02408-62eb-4a9e-98ef-34adc28f55c8');\n",
       "          const dataTable =\n",
       "            await google.colab.kernel.invokeFunction('convertToInteractive',\n",
       "                                                     [key], {});\n",
       "          if (!dataTable) return;\n",
       "\n",
       "          const docLinkHtml = 'Like what you see? Visit the ' +\n",
       "            '<a target=\"_blank\" href=https://colab.research.google.com/notebooks/data_table.ipynb>data table notebook</a>'\n",
       "            + ' to learn more about interactive tables.';\n",
       "          element.innerHTML = '';\n",
       "          dataTable['output_type'] = 'display_data';\n",
       "          await google.colab.output.renderOutput(dataTable, element);\n",
       "          const docLink = document.createElement('div');\n",
       "          docLink.innerHTML = docLinkHtml;\n",
       "          element.appendChild(docLink);\n",
       "        }\n",
       "      </script>\n",
       "    </div>\n",
       "  </div>\n",
       "  "
      ],
      "text/plain": [
       "          0      1      2      3      4      5      6      7      8      9  \\\n",
       "1981  68529  66723  64065  59568  59023  64515  65573  67271  72378  77976   \n",
       "1982  66594  68063  66389  63810  59442  58911  64300  65387  66999  72148   \n",
       "1983  65110  66015  67723  66026  63633  59327  58774  64236  65167  66811   \n",
       "1984  63669  64796  65713  67520  65844  63560  59244  58710  64015  65132   \n",
       "1985  65438  63134  64249  65278  67156  65600  63454  59144  58494  63864   \n",
       "\n",
       "      ...     82     83     84     85    86    87    88    89     90    total  \n",
       "1981  ...  15848  13647  11778  10157  8229  6795  5579  4339  13571  5180200  \n",
       "1982  ...  17295  13930  11934  10173  8634  6863  5547  4459  13709  5164540  \n",
       "1983  ...  17656  15411  12186  10391  8719  7320  5703  4482  14193  5148120  \n",
       "1984  ...  17954  15793  13640  10583  8952  7397  6137  4646  14557  5138880  \n",
       "1985  ...  18555  16069  14023  11979  9111  7659  6221  5055  14998  5127890  \n",
       "\n",
       "[5 rows x 92 columns]"
      ]
     },
     "execution_count": 11,
     "metadata": {},
     "output_type": "execute_result"
    }
   ],
   "source": [
    "df.head()"
   ]
  },
  {
   "cell_type": "code",
   "execution_count": null,
   "id": "ccc65cdc",
   "metadata": {
    "id": "ccc65cdc"
   },
   "outputs": [],
   "source": [
    "df2=pd.read_csv('/content/drive/MyDrive/assignment 2 cetm-46/data/migration/mig-to-from-scotland-tab1_Net 1951-.csv',encoding='ISO-8859-1',header=5)\n",
    "df2=df2[['Total1,2,8']]\n",
    "df2=df2.iloc[29:]\n",
    "df2=df2.dropna()\n",
    "time2=pd.date_range(start='1981-1-1',end='2021-1-1',freq='Y')\n",
    "df2.index=pd.PeriodIndex(pd.Series(time2).dt.year,freq='Y')\n",
    "df2.columns=[['total_immigration']]\n",
    "df2=df2*1000"
   ]
  },
  {
   "cell_type": "code",
   "execution_count": null,
   "id": "1a7a814c",
   "metadata": {
    "colab": {
     "base_uri": "https://localhost:8080/",
     "height": 206
    },
    "executionInfo": {
     "elapsed": 208,
     "status": "ok",
     "timestamp": 1652641556178,
     "user": {
      "displayName": "Mahdi Bazzi",
      "userId": "16390925910306107476"
     },
     "user_tz": -60
    },
    "id": "1a7a814c",
    "outputId": "65680534-4007-4186-a4db-03f8ed34b439"
   },
   "outputs": [
    {
     "data": {
      "text/html": [
       "\n",
       "  <div id=\"df-774f34c9-a113-42bf-a19f-4301e3d241a1\">\n",
       "    <div class=\"colab-df-container\">\n",
       "      <div>\n",
       "<style scoped>\n",
       "    .dataframe tbody tr th:only-of-type {\n",
       "        vertical-align: middle;\n",
       "    }\n",
       "\n",
       "    .dataframe tbody tr th {\n",
       "        vertical-align: top;\n",
       "    }\n",
       "\n",
       "    .dataframe thead tr th {\n",
       "        text-align: left;\n",
       "    }\n",
       "</style>\n",
       "<table border=\"1\" class=\"dataframe\">\n",
       "  <thead>\n",
       "    <tr>\n",
       "      <th></th>\n",
       "      <th>total_immigration</th>\n",
       "    </tr>\n",
       "  </thead>\n",
       "  <tbody>\n",
       "    <tr>\n",
       "      <th>1981</th>\n",
       "      <td>-23100.0</td>\n",
       "    </tr>\n",
       "    <tr>\n",
       "      <th>1982</th>\n",
       "      <td>-16900.0</td>\n",
       "    </tr>\n",
       "    <tr>\n",
       "      <th>1983</th>\n",
       "      <td>-19700.0</td>\n",
       "    </tr>\n",
       "    <tr>\n",
       "      <th>1984</th>\n",
       "      <td>-12000.0</td>\n",
       "    </tr>\n",
       "    <tr>\n",
       "      <th>1985</th>\n",
       "      <td>-15000.0</td>\n",
       "    </tr>\n",
       "  </tbody>\n",
       "</table>\n",
       "</div>\n",
       "      <button class=\"colab-df-convert\" onclick=\"convertToInteractive('df-774f34c9-a113-42bf-a19f-4301e3d241a1')\"\n",
       "              title=\"Convert this dataframe to an interactive table.\"\n",
       "              style=\"display:none;\">\n",
       "        \n",
       "  <svg xmlns=\"http://www.w3.org/2000/svg\" height=\"24px\"viewBox=\"0 0 24 24\"\n",
       "       width=\"24px\">\n",
       "    <path d=\"M0 0h24v24H0V0z\" fill=\"none\"/>\n",
       "    <path d=\"M18.56 5.44l.94 2.06.94-2.06 2.06-.94-2.06-.94-.94-2.06-.94 2.06-2.06.94zm-11 1L8.5 8.5l.94-2.06 2.06-.94-2.06-.94L8.5 2.5l-.94 2.06-2.06.94zm10 10l.94 2.06.94-2.06 2.06-.94-2.06-.94-.94-2.06-.94 2.06-2.06.94z\"/><path d=\"M17.41 7.96l-1.37-1.37c-.4-.4-.92-.59-1.43-.59-.52 0-1.04.2-1.43.59L10.3 9.45l-7.72 7.72c-.78.78-.78 2.05 0 2.83L4 21.41c.39.39.9.59 1.41.59.51 0 1.02-.2 1.41-.59l7.78-7.78 2.81-2.81c.8-.78.8-2.07 0-2.86zM5.41 20L4 18.59l7.72-7.72 1.47 1.35L5.41 20z\"/>\n",
       "  </svg>\n",
       "      </button>\n",
       "      \n",
       "  <style>\n",
       "    .colab-df-container {\n",
       "      display:flex;\n",
       "      flex-wrap:wrap;\n",
       "      gap: 12px;\n",
       "    }\n",
       "\n",
       "    .colab-df-convert {\n",
       "      background-color: #E8F0FE;\n",
       "      border: none;\n",
       "      border-radius: 50%;\n",
       "      cursor: pointer;\n",
       "      display: none;\n",
       "      fill: #1967D2;\n",
       "      height: 32px;\n",
       "      padding: 0 0 0 0;\n",
       "      width: 32px;\n",
       "    }\n",
       "\n",
       "    .colab-df-convert:hover {\n",
       "      background-color: #E2EBFA;\n",
       "      box-shadow: 0px 1px 2px rgba(60, 64, 67, 0.3), 0px 1px 3px 1px rgba(60, 64, 67, 0.15);\n",
       "      fill: #174EA6;\n",
       "    }\n",
       "\n",
       "    [theme=dark] .colab-df-convert {\n",
       "      background-color: #3B4455;\n",
       "      fill: #D2E3FC;\n",
       "    }\n",
       "\n",
       "    [theme=dark] .colab-df-convert:hover {\n",
       "      background-color: #434B5C;\n",
       "      box-shadow: 0px 1px 3px 1px rgba(0, 0, 0, 0.15);\n",
       "      filter: drop-shadow(0px 1px 2px rgba(0, 0, 0, 0.3));\n",
       "      fill: #FFFFFF;\n",
       "    }\n",
       "  </style>\n",
       "\n",
       "      <script>\n",
       "        const buttonEl =\n",
       "          document.querySelector('#df-774f34c9-a113-42bf-a19f-4301e3d241a1 button.colab-df-convert');\n",
       "        buttonEl.style.display =\n",
       "          google.colab.kernel.accessAllowed ? 'block' : 'none';\n",
       "\n",
       "        async function convertToInteractive(key) {\n",
       "          const element = document.querySelector('#df-774f34c9-a113-42bf-a19f-4301e3d241a1');\n",
       "          const dataTable =\n",
       "            await google.colab.kernel.invokeFunction('convertToInteractive',\n",
       "                                                     [key], {});\n",
       "          if (!dataTable) return;\n",
       "\n",
       "          const docLinkHtml = 'Like what you see? Visit the ' +\n",
       "            '<a target=\"_blank\" href=https://colab.research.google.com/notebooks/data_table.ipynb>data table notebook</a>'\n",
       "            + ' to learn more about interactive tables.';\n",
       "          element.innerHTML = '';\n",
       "          dataTable['output_type'] = 'display_data';\n",
       "          await google.colab.output.renderOutput(dataTable, element);\n",
       "          const docLink = document.createElement('div');\n",
       "          docLink.innerHTML = docLinkHtml;\n",
       "          element.appendChild(docLink);\n",
       "        }\n",
       "      </script>\n",
       "    </div>\n",
       "  </div>\n",
       "  "
      ],
      "text/plain": [
       "     total_immigration\n",
       "1981          -23100.0\n",
       "1982          -16900.0\n",
       "1983          -19700.0\n",
       "1984          -12000.0\n",
       "1985          -15000.0"
      ]
     },
     "execution_count": 14,
     "metadata": {},
     "output_type": "execute_result"
    }
   ],
   "source": [
    "df2.head()"
   ]
  },
  {
   "cell_type": "code",
   "execution_count": null,
   "id": "2a061ef9",
   "metadata": {
    "id": "2a061ef9"
   },
   "outputs": [],
   "source": [
    "df3=pd.read_excel('/content/drive/MyDrive/assignment 2 cetm-46/data/births/births.xlsx',header=5)\n",
    "df3.dropna(inplace=True)\n",
    "df3=df3.iloc[:,1]\n",
    "df3=df3.tail(40)\n",
    "time3=pd.date_range(start='1981-1-1',end='2021-1-1',freq='Y')\n",
    "df3.index=pd.PeriodIndex(pd.Series(time3).dt.year,freq='Y')"
   ]
  },
  {
   "cell_type": "code",
   "execution_count": null,
   "id": "c4805e2c",
   "metadata": {
    "id": "c4805e2c"
   },
   "outputs": [],
   "source": [
    "df4=pd.read_excel('/content/drive/MyDrive/assignment 2 cetm-46/data/deaths/deaths.xlsx',header=4,names=['1','2','3','4'])\n",
    "df4=df4.dropna()\n",
    "df4=df4.iloc[:,1]\n",
    "df4=df4.tail(40)\n",
    "time4=pd.date_range(start='1981-1-1',end='2021-1-1',freq='Y')\n",
    "df4.index=pd.PeriodIndex(pd.Series(time2).dt.year,freq='Y')"
   ]
  },
  {
   "cell_type": "code",
   "execution_count": null,
   "id": "49efb698",
   "metadata": {
    "colab": {
     "base_uri": "https://localhost:8080/"
    },
    "executionInfo": {
     "elapsed": 6,
     "status": "ok",
     "timestamp": 1652641592724,
     "user": {
      "displayName": "Mahdi Bazzi",
      "userId": "16390925910306107476"
     },
     "user_tz": -60
    },
    "id": "49efb698",
    "outputId": "949c80d7-ca5f-40ba-b833-efa721c6aa72"
   },
   "outputs": [
    {
     "data": {
      "text/plain": [
       "1981    63828.0\n",
       "1982    65022.0\n",
       "1983    63454.0\n",
       "1984    62345.0\n",
       "1985    63967.0\n",
       "Freq: A-DEC, Name: 2, dtype: float64"
      ]
     },
     "execution_count": 17,
     "metadata": {},
     "output_type": "execute_result"
    }
   ],
   "source": [
    "df4.head()"
   ]
  },
  {
   "cell_type": "code",
   "execution_count": null,
   "id": "6530024f",
   "metadata": {
    "id": "6530024f"
   },
   "outputs": [],
   "source": [
    "df5=pd.concat([df.total,df2,df3,df4],axis=1)\n",
    "df5['date']=df5.index.map(lambda x: x.start_time)\n",
    "df5.columns=['population','immigration','births','deaths','date']"
   ]
  },
  {
   "cell_type": "code",
   "execution_count": null,
   "id": "fa143ae3",
   "metadata": {
    "colab": {
     "base_uri": "https://localhost:8080/",
     "height": 206
    },
    "executionInfo": {
     "elapsed": 7,
     "status": "ok",
     "timestamp": 1652641595530,
     "user": {
      "displayName": "Mahdi Bazzi",
      "userId": "16390925910306107476"
     },
     "user_tz": -60
    },
    "id": "fa143ae3",
    "outputId": "842cf505-ab1f-4b77-9443-1bc398f2b3c2"
   },
   "outputs": [
    {
     "data": {
      "text/html": [
       "\n",
       "  <div id=\"df-e07788fb-09f9-4190-bce9-14ca4518022d\">\n",
       "    <div class=\"colab-df-container\">\n",
       "      <div>\n",
       "<style scoped>\n",
       "    .dataframe tbody tr th:only-of-type {\n",
       "        vertical-align: middle;\n",
       "    }\n",
       "\n",
       "    .dataframe tbody tr th {\n",
       "        vertical-align: top;\n",
       "    }\n",
       "\n",
       "    .dataframe thead th {\n",
       "        text-align: right;\n",
       "    }\n",
       "</style>\n",
       "<table border=\"1\" class=\"dataframe\">\n",
       "  <thead>\n",
       "    <tr style=\"text-align: right;\">\n",
       "      <th></th>\n",
       "      <th>population</th>\n",
       "      <th>immigration</th>\n",
       "      <th>births</th>\n",
       "      <th>deaths</th>\n",
       "      <th>date</th>\n",
       "    </tr>\n",
       "  </thead>\n",
       "  <tbody>\n",
       "    <tr>\n",
       "      <th>2016</th>\n",
       "      <td>5404700</td>\n",
       "      <td>31700.0</td>\n",
       "      <td>54488.0</td>\n",
       "      <td>56728.0</td>\n",
       "      <td>2016-01-01</td>\n",
       "    </tr>\n",
       "    <tr>\n",
       "      <th>2017</th>\n",
       "      <td>5424800</td>\n",
       "      <td>23900.0</td>\n",
       "      <td>52861.0</td>\n",
       "      <td>57883.0</td>\n",
       "      <td>2017-01-01</td>\n",
       "    </tr>\n",
       "    <tr>\n",
       "      <th>2018</th>\n",
       "      <td>5438100</td>\n",
       "      <td>20900.0</td>\n",
       "      <td>51308.0</td>\n",
       "      <td>58503.0</td>\n",
       "      <td>2018-01-01</td>\n",
       "    </tr>\n",
       "    <tr>\n",
       "      <th>2019</th>\n",
       "      <td>5463300</td>\n",
       "      <td>30200.0</td>\n",
       "      <td>49863.0</td>\n",
       "      <td>58108.0</td>\n",
       "      <td>2019-01-01</td>\n",
       "    </tr>\n",
       "    <tr>\n",
       "      <th>2020</th>\n",
       "      <td>5466000</td>\n",
       "      <td>16900.0</td>\n",
       "      <td>46809.0</td>\n",
       "      <td>64093.0</td>\n",
       "      <td>2020-01-01</td>\n",
       "    </tr>\n",
       "  </tbody>\n",
       "</table>\n",
       "</div>\n",
       "      <button class=\"colab-df-convert\" onclick=\"convertToInteractive('df-e07788fb-09f9-4190-bce9-14ca4518022d')\"\n",
       "              title=\"Convert this dataframe to an interactive table.\"\n",
       "              style=\"display:none;\">\n",
       "        \n",
       "  <svg xmlns=\"http://www.w3.org/2000/svg\" height=\"24px\"viewBox=\"0 0 24 24\"\n",
       "       width=\"24px\">\n",
       "    <path d=\"M0 0h24v24H0V0z\" fill=\"none\"/>\n",
       "    <path d=\"M18.56 5.44l.94 2.06.94-2.06 2.06-.94-2.06-.94-.94-2.06-.94 2.06-2.06.94zm-11 1L8.5 8.5l.94-2.06 2.06-.94-2.06-.94L8.5 2.5l-.94 2.06-2.06.94zm10 10l.94 2.06.94-2.06 2.06-.94-2.06-.94-.94-2.06-.94 2.06-2.06.94z\"/><path d=\"M17.41 7.96l-1.37-1.37c-.4-.4-.92-.59-1.43-.59-.52 0-1.04.2-1.43.59L10.3 9.45l-7.72 7.72c-.78.78-.78 2.05 0 2.83L4 21.41c.39.39.9.59 1.41.59.51 0 1.02-.2 1.41-.59l7.78-7.78 2.81-2.81c.8-.78.8-2.07 0-2.86zM5.41 20L4 18.59l7.72-7.72 1.47 1.35L5.41 20z\"/>\n",
       "  </svg>\n",
       "      </button>\n",
       "      \n",
       "  <style>\n",
       "    .colab-df-container {\n",
       "      display:flex;\n",
       "      flex-wrap:wrap;\n",
       "      gap: 12px;\n",
       "    }\n",
       "\n",
       "    .colab-df-convert {\n",
       "      background-color: #E8F0FE;\n",
       "      border: none;\n",
       "      border-radius: 50%;\n",
       "      cursor: pointer;\n",
       "      display: none;\n",
       "      fill: #1967D2;\n",
       "      height: 32px;\n",
       "      padding: 0 0 0 0;\n",
       "      width: 32px;\n",
       "    }\n",
       "\n",
       "    .colab-df-convert:hover {\n",
       "      background-color: #E2EBFA;\n",
       "      box-shadow: 0px 1px 2px rgba(60, 64, 67, 0.3), 0px 1px 3px 1px rgba(60, 64, 67, 0.15);\n",
       "      fill: #174EA6;\n",
       "    }\n",
       "\n",
       "    [theme=dark] .colab-df-convert {\n",
       "      background-color: #3B4455;\n",
       "      fill: #D2E3FC;\n",
       "    }\n",
       "\n",
       "    [theme=dark] .colab-df-convert:hover {\n",
       "      background-color: #434B5C;\n",
       "      box-shadow: 0px 1px 3px 1px rgba(0, 0, 0, 0.15);\n",
       "      filter: drop-shadow(0px 1px 2px rgba(0, 0, 0, 0.3));\n",
       "      fill: #FFFFFF;\n",
       "    }\n",
       "  </style>\n",
       "\n",
       "      <script>\n",
       "        const buttonEl =\n",
       "          document.querySelector('#df-e07788fb-09f9-4190-bce9-14ca4518022d button.colab-df-convert');\n",
       "        buttonEl.style.display =\n",
       "          google.colab.kernel.accessAllowed ? 'block' : 'none';\n",
       "\n",
       "        async function convertToInteractive(key) {\n",
       "          const element = document.querySelector('#df-e07788fb-09f9-4190-bce9-14ca4518022d');\n",
       "          const dataTable =\n",
       "            await google.colab.kernel.invokeFunction('convertToInteractive',\n",
       "                                                     [key], {});\n",
       "          if (!dataTable) return;\n",
       "\n",
       "          const docLinkHtml = 'Like what you see? Visit the ' +\n",
       "            '<a target=\"_blank\" href=https://colab.research.google.com/notebooks/data_table.ipynb>data table notebook</a>'\n",
       "            + ' to learn more about interactive tables.';\n",
       "          element.innerHTML = '';\n",
       "          dataTable['output_type'] = 'display_data';\n",
       "          await google.colab.output.renderOutput(dataTable, element);\n",
       "          const docLink = document.createElement('div');\n",
       "          docLink.innerHTML = docLinkHtml;\n",
       "          element.appendChild(docLink);\n",
       "        }\n",
       "      </script>\n",
       "    </div>\n",
       "  </div>\n",
       "  "
      ],
      "text/plain": [
       "      population  immigration   births   deaths       date\n",
       "2016     5404700      31700.0  54488.0  56728.0 2016-01-01\n",
       "2017     5424800      23900.0  52861.0  57883.0 2017-01-01\n",
       "2018     5438100      20900.0  51308.0  58503.0 2018-01-01\n",
       "2019     5463300      30200.0  49863.0  58108.0 2019-01-01\n",
       "2020     5466000      16900.0  46809.0  64093.0 2020-01-01"
      ]
     },
     "execution_count": 19,
     "metadata": {},
     "output_type": "execute_result"
    }
   ],
   "source": [
    "df5.tail()"
   ]
  },
  {
   "cell_type": "code",
   "execution_count": null,
   "id": "caba54f4",
   "metadata": {
    "id": "caba54f4"
   },
   "outputs": [],
   "source": [
    "def plot_graph(x,y,x_label=None,y_label=None):\n",
    "    plt.figure(figsize=(7,5))\n",
    "    plt.plot(x,y,'r')\n",
    "    plt.xlabel(x_label)\n",
    "    plt.ylabel(y_label)"
   ]
  },
  {
   "cell_type": "code",
   "execution_count": null,
   "id": "0468c198",
   "metadata": {
    "colab": {
     "base_uri": "https://localhost:8080/",
     "height": 1000
    },
    "executionInfo": {
     "elapsed": 956,
     "status": "ok",
     "timestamp": 1652641684136,
     "user": {
      "displayName": "Mahdi Bazzi",
      "userId": "16390925910306107476"
     },
     "user_tz": -60
    },
    "id": "0468c198",
    "outputId": "00fe4725-c2b7-4302-e1c2-affe06500e8f"
   },
   "outputs": [
    {
     "data": {
      "image/png": "[encoded data removed]",
      "text/plain": [
       "<Figure size 504x360 with 1 Axes>"
      ]
     },
     "metadata": {
      "needs_background": "light"
     },
     "output_type": "display_data"
    },
    {
     "data": {
      "text/plain": [
       "<Figure size 432x288 with 0 Axes>"
      ]
     },
     "metadata": {},
     "output_type": "display_data"
    },
    {
     "data": {
      "image/png": "[encoded data removed]",
      "text/plain": [
       "<Figure size 504x360 with 1 Axes>"
      ]
     },
     "metadata": {
      "needs_background": "light"
     },
     "output_type": "display_data"
    },
    {
     "data": {
      "text/plain": [
       "<Figure size 432x288 with 0 Axes>"
      ]
     },
     "metadata": {},
     "output_type": "display_data"
    },
    {
     "data": {
      "image/png": "[encoded data removed]",
      "text/plain": [
       "<Figure size 504x360 with 1 Axes>"
      ]
     },
     "metadata": {
      "needs_background": "light"
     },
     "output_type": "display_data"
    },
    {
     "data": {
      "text/plain": [
       "<Figure size 432x288 with 0 Axes>"
      ]
     },
     "metadata": {},
     "output_type": "display_data"
    },
    {
     "data": {
      "image/png": "[encoded data removed]",
      "text/plain": [
       "<Figure size 504x360 with 1 Axes>"
      ]
     },
     "metadata": {
      "needs_background": "light"
     },
     "output_type": "display_data"
    }
   ],
   "source": [
    "plot_graph(df5.date,df5.population,'Date','Population')\n",
    "plt.figure()\n",
    "plot_graph(df5.date,df5.births,'Date','Births')\n",
    "plt.figure()\n",
    "plot_graph(df5.date,df5.deaths,'Date','Deaths')\n",
    "plt.figure()\n",
    "plot_graph(df5.date,df5.immigration,'Date','Immigration')"
   ]
  },
  {
   "cell_type": "markdown",
   "id": "3378db02",
   "metadata": {
    "id": "3378db02"
   },
   "source": [
    "# As we can see the deaths and immigration seems to be a cyclic kind of time-series where the births and population are a random one with downward trend."
   ]
  },
  {
   "cell_type": "code",
   "execution_count": null,
   "id": "a6777585",
   "metadata": {
    "id": "a6777585"
   },
   "outputs": [],
   "source": [
    "from sklearn.model_selection import train_test_split\n",
    "from sklearn.preprocessing import MinMaxScaler"
   ]
  },
  {
   "cell_type": "code",
   "execution_count": null,
   "id": "719a05f4",
   "metadata": {
    "id": "719a05f4"
   },
   "outputs": [],
   "source": [
    "# create a normailzed timeseries dataset with timesteps using the original dataset\n",
    "\n",
    "def create_dataset(dataset,time_step):\n",
    "    scaler=MinMaxScaler()\n",
    "    scaled_dataset=scaler.fit_transform(np.array(df5.deaths).reshape(-1,1))\n",
    "    X,y=[],[]\n",
    "    for i in range(len(scaled_dataset)-time_step-1):\n",
    "        a = scaled_dataset[i:(i+time_step)]\n",
    "        X.append(a)\n",
    "        y.append(scaled_dataset[i+time_step])\n",
    "    return np.array(X),np.array(y),scaler"
   ]
  },
  {
   "cell_type": "code",
   "execution_count": null,
   "id": "1910e128",
   "metadata": {
    "id": "1910e128"
   },
   "outputs": [],
   "source": [
    "n_steps_death=3\n",
    "n_step_birth=2\n",
    "n_steps_imm=4\n",
    "\n",
    "data_death,target_death,scaler_death=create_dataset(df5.deaths,n_steps_death)\n",
    "data_birth,target_birth,scaler_birth=create_dataset(df5.births,n_step_birth)\n",
    "data_imm,target_imm,scaler_imm=create_dataset(df5.immigration,n_steps_imm)"
   ]
  },
  {
   "cell_type": "markdown",
   "id": "6a3f3a78",
   "metadata": {
    "id": "6a3f3a78"
   },
   "source": [
    "### train test split was used to cover several samples across the data to learn the different trends so we used a random state to choosing the samples and we could use random sampling since we already created our timeseries data with overlapping points before applying the train_test_split"
   ]
  },
  {
   "cell_type": "code",
   "execution_count": null,
   "id": "494a3e98",
   "metadata": {
    "id": "494a3e98"
   },
   "outputs": [],
   "source": [
    "X_train_death,X_test_death,y_train_death,y_test_death=train_test_split(data_death,target_death,test_size=0.3,random_state=1)\n",
    "X_train_birth,X_test_birth,y_train_birth,y_test_birth=train_test_split(data_birth,target_birth,test_size=0.3,random_state=1)\n",
    "X_train_imm,X_test_imm,y_train_imm,y_test_imm=train_test_split(data_imm,target_imm,test_size=0.3,random_state=1)"
   ]
  },
  {
   "cell_type": "markdown",
   "id": "6a581b48",
   "metadata": {
    "id": "6a581b48"
   },
   "source": [
    "### 2 seperate models were created by using several trials and obtaining the best configuration for each dataset to give the best evaluation results using the Root Mean Square Eroor"
   ]
  },
  {
   "cell_type": "code",
   "execution_count": null,
   "id": "ba793b22",
   "metadata": {
    "id": "ba793b22"
   },
   "outputs": [],
   "source": [
    "import tensorflow as tf\n",
    "from tensorflow import keras\n",
    "from keras import regularizers"
   ]
  },
  {
   "cell_type": "code",
   "execution_count": null,
   "id": "c03dd3e7",
   "metadata": {
    "id": "c03dd3e7"
   },
   "outputs": [],
   "source": [
    "# creating LSTM RNN model for birth and death\n",
    "def create_model_1(input_shape):\n",
    "    model=keras.Sequential([\n",
    "        keras.layers.LSTM(5,return_sequences=True,input_shape=input_shape,activation='relu'),\n",
    "        keras.layers.LSTM(5),\n",
    "        keras.layers.Dense(16,activation='linear',kernel_regularizer=regularizers.l2(0.001)),\n",
    "        keras.layers.Dropout(0.5),\n",
    "        keras.layers.Dense(1)\n",
    "    ])\n",
    "    model.compile(optimizer='adam',loss='mse',metrics=['mae'])\n",
    "    return model\n",
    "\n",
    "# create LSTM RNN model for immigration\n",
    "\n",
    "def create_model_2(input_shape):\n",
    "    model=keras.Sequential([\n",
    "        keras.layers.LSTM(10,return_sequences=True,input_shape=input_shape,activation='relu'),\n",
    "        keras.layers.LSTM(10),\n",
    "        keras.layers.Flatten(),\n",
    "        keras.layers.Dense(32,activation='linear',kernel_regularizer=regularizers.l2(0.001)),\n",
    "        keras.layers.Dropout(0.5),\n",
    "        keras.layers.Dense(16,activation='linear',kernel_regularizer=regularizers.l2(0.001)),\n",
    "        keras.layers.Dropout(0.5),\n",
    "        keras.layers.Dense(1)\n",
    "    ])\n",
    "    model.compile(optimizer='rmsprop',loss='mse',metrics=['mae'])\n",
    "    return model"
   ]
  },
  {
   "cell_type": "code",
   "execution_count": null,
   "id": "dba4a771",
   "metadata": {
    "id": "dba4a771"
   },
   "outputs": [],
   "source": [
    "model_death=create_model_1((n_steps_death,1))\n",
    "history_death=model_death.fit(X_train_death,y_train_death,epochs=300,batch_size=6,verbose=0)"
   ]
  },
  {
   "cell_type": "code",
   "execution_count": null,
   "id": "2e191c6a",
   "metadata": {
    "id": "2e191c6a"
   },
   "outputs": [],
   "source": [
    "model_birth=create_model_1((n_step_birth,1))\n",
    "history_birth=model_birth.fit(X_train_birth,y_train_birth,epochs=300,batch_size=3,verbose=0)"
   ]
  },
  {
   "cell_type": "code",
   "execution_count": null,
   "id": "98034135",
   "metadata": {
    "id": "98034135"
   },
   "outputs": [],
   "source": [
    "model_imm=create_model_2((n_steps_imm,1))\n",
    "history_imm=model_imm.fit(X_train_imm,y_train_imm,epochs=150,batch_size=10,verbose=0)"
   ]
  },
  {
   "cell_type": "markdown",
   "id": "32497844",
   "metadata": {
    "id": "32497844"
   },
   "source": [
    "### Model is evaluated using the Root Mean Square Error against the test data"
   ]
  },
  {
   "cell_type": "code",
   "execution_count": null,
   "id": "232f51f7",
   "metadata": {
    "id": "232f51f7"
   },
   "outputs": [],
   "source": [
    "import math\n",
    "from sklearn.metrics import mean_squared_error"
   ]
  },
  {
   "cell_type": "code",
   "execution_count": null,
   "id": "f8c817fc",
   "metadata": {
    "id": "f8c817fc"
   },
   "outputs": [],
   "source": [
    "# evaluating the model   \n",
    "def evaluate_RMSE(model,X_train,X_test,y_train,y_test):\n",
    "    train_predict=model.predict(X_train)\n",
    "    test_predict=model.predict(X_test)\n",
    "    \n",
    "    train_RMSE=math.sqrt(mean_squared_error(y_train,train_predict))\n",
    "    test_RMSE=math.sqrt(mean_squared_error(y_test,test_predict))\n",
    "    return train_RMSE,test_RMSE"
   ]
  },
  {
   "cell_type": "code",
   "execution_count": null,
   "id": "be98cf04",
   "metadata": {
    "colab": {
     "base_uri": "https://localhost:8080/"
    },
    "executionInfo": {
     "elapsed": 857,
     "status": "ok",
     "timestamp": 1652641801773,
     "user": {
      "displayName": "Mahdi Bazzi",
      "userId": "16390925910306107476"
     },
     "user_tz": -60
    },
    "id": "be98cf04",
    "outputId": "aca15652-cc69-4ef0-d597-b73eaf5e8e76"
   },
   "outputs": [
    {
     "data": {
      "text/plain": [
       "(0.1478719149627954, 0.12118733100493781)"
      ]
     },
     "execution_count": 34,
     "metadata": {},
     "output_type": "execute_result"
    }
   ],
   "source": [
    "train_evaluate_death,test_evaluate_death=evaluate_RMSE(model_death,X_train_death,X_test_death,y_train_death,y_test_death)\n",
    "train_evaluate_death,test_evaluate_death"
   ]
  },
  {
   "cell_type": "code",
   "execution_count": null,
   "id": "84785edf",
   "metadata": {
    "colab": {
     "base_uri": "https://localhost:8080/"
    },
    "executionInfo": {
     "elapsed": 782,
     "status": "ok",
     "timestamp": 1652641804091,
     "user": {
      "displayName": "Mahdi Bazzi",
      "userId": "16390925910306107476"
     },
     "user_tz": -60
    },
    "id": "84785edf",
    "outputId": "7bcae6d4-e262-4a34-ca27-86756448e83f"
   },
   "outputs": [
    {
     "data": {
      "text/plain": [
       "(0.1327470527173954, 0.12601702613666146)"
      ]
     },
     "execution_count": 35,
     "metadata": {},
     "output_type": "execute_result"
    }
   ],
   "source": [
    "train_evaluate_birth,test_evaluate_birth=evaluate_RMSE(model_birth,X_train_birth,X_test_birth,y_train_birth,y_test_birth)\n",
    "train_evaluate_birth,test_evaluate_birth"
   ]
  },
  {
   "cell_type": "code",
   "execution_count": null,
   "id": "e8963deb",
   "metadata": {
    "colab": {
     "base_uri": "https://localhost:8080/"
    },
    "executionInfo": {
     "elapsed": 761,
     "status": "ok",
     "timestamp": 1652641805719,
     "user": {
      "displayName": "Mahdi Bazzi",
      "userId": "16390925910306107476"
     },
     "user_tz": -60
    },
    "id": "e8963deb",
    "outputId": "ff4dcd71-da8e-4f38-d027-749705576339"
   },
   "outputs": [
    {
     "data": {
      "text/plain": [
       "(0.1132085023415449, 0.11244063423482613)"
      ]
     },
     "execution_count": 36,
     "metadata": {},
     "output_type": "execute_result"
    }
   ],
   "source": [
    "train_evaluate_imm,test_evaluate_imm=evaluate_RMSE(model_imm,X_train_imm,X_test_imm,y_train_imm,y_test_imm)\n",
    "train_evaluate_imm,test_evaluate_imm"
   ]
  },
  {
   "cell_type": "markdown",
   "id": "db092f7b",
   "metadata": {
    "id": "db092f7b"
   },
   "source": [
    "### Forecasting over 5 years and plotting the results"
   ]
  },
  {
   "cell_type": "code",
   "execution_count": null,
   "id": "8604a729",
   "metadata": {
    "id": "8604a729"
   },
   "outputs": [],
   "source": [
    "# predicting over 3 years in future\n",
    "def predict_over_n_years(model,dataset,years,n_steps):\n",
    "    scaler=MinMaxScaler()\n",
    "    dataset=scaler.fit_transform(np.array(dataset).reshape(-1,1))\n",
    "    x_input=np.array(dataset[-n_steps:]).reshape(1,-1)\n",
    "    temp_input=list(x_input)\n",
    "    temp_input=temp_input[0].tolist()\n",
    "    lst_output=[]\n",
    "    n_steps=n_steps\n",
    "    i=0\n",
    "    while (i<years):\n",
    "\n",
    "        if len(temp_input)>n_steps:\n",
    "            x_input=np.array(temp_input[1:])\n",
    "#             print(\"{} year input is {}\".format(i,x_input))\n",
    "            x_input=x_input.reshape(1,-1)\n",
    "            x_input=x_input.reshape(1,n_steps,1)\n",
    "            yhat=model.predict(x_input,verbose=0)\n",
    "#             print(\"{} year output is {}\".format(i,yhat))\n",
    "            temp_input.extend(yhat[0].tolist())\n",
    "            temp_input=temp_input[1:]\n",
    "            lst_output.extend(yhat.tolist())\n",
    "            i+=1\n",
    "        else:\n",
    "            x_input=x_input.reshape(1,n_steps,1)\n",
    "            yhat=model.predict(x_input,verbose=0)\n",
    "#             print(f'0 outpus is {yhat[0]}')\n",
    "            temp_input.extend(yhat[0].tolist())\n",
    "            lst_output.extend(yhat.tolist())\n",
    "            i+=1\n",
    "    return lst_output,scaler\n",
    "\n",
    "# plotting our graph as continous by merging the predicted result along with the original one\n",
    "def plot_graph_predicted(feature,output,scaler,scale=1):\n",
    "    plt.figure()\n",
    "    df=df5[feature]\n",
    "    time=pd.date_range(start='1981-1-1',periods=(len(df)+len(output)),freq='y')\n",
    "    time=pd.Series(time).dt.year\n",
    "    my_list=df.tolist()\n",
    "    my_list.extend(scaler.inverse_transform(output))\n",
    "    my_list=np.array(my_list)/scale\n",
    "    plt.plot(time,my_list)\n",
    "    plt.xlabel(f'date range from 1981 to {time.iloc[-1]} ')\n",
    "    plt.ylabel(f\"{feature} in '{scale} person'\")\n"
   ]
  },
  {
   "cell_type": "code",
   "execution_count": null,
   "id": "aa2b42c8",
   "metadata": {
    "colab": {
     "base_uri": "https://localhost:8080/",
     "height": 878
    },
    "executionInfo": {
     "elapsed": 1407,
     "status": "ok",
     "timestamp": 1652641827721,
     "user": {
      "displayName": "Mahdi Bazzi",
      "userId": "16390925910306107476"
     },
     "user_tz": -60
    },
    "id": "aa2b42c8",
    "outputId": "04b5393d-954d-4c63-c251-8a9c6f827c43"
   },
   "outputs": [
    {
     "name": "stderr",
     "output_type": "stream",
     "text": [
      "/usr/local/lib/python3.7/dist-packages/ipykernel_launcher.py:41: VisibleDeprecationWarning: Creating an ndarray from ragged nested sequences (which is a list-or-tuple of lists-or-tuples-or ndarrays with different lengths or shapes) is deprecated. If you meant to do this, you must specify 'dtype=object' when creating the ndarray.\n",
      "/usr/local/lib/python3.7/dist-packages/ipykernel_launcher.py:41: VisibleDeprecationWarning: Creating an ndarray from ragged nested sequences (which is a list-or-tuple of lists-or-tuples-or ndarrays with different lengths or shapes) is deprecated. If you meant to do this, you must specify 'dtype=object' when creating the ndarray.\n",
      "/usr/local/lib/python3.7/dist-packages/ipykernel_launcher.py:41: VisibleDeprecationWarning: Creating an ndarray from ragged nested sequences (which is a list-or-tuple of lists-or-tuples-or ndarrays with different lengths or shapes) is deprecated. If you meant to do this, you must specify 'dtype=object' when creating the ndarray.\n"
     ]
    },
    {
     "data": {
      "image/png": "[encoded data removed]",
      "text/plain": [
       "<Figure size 432x288 with 1 Axes>"
      ]
     },
     "metadata": {
      "needs_background": "light"
     },
     "output_type": "display_data"
    },
    {
     "data": {
      "image/png": "[encoded data removed]",
      "text/plain": [
       "<Figure size 432x288 with 1 Axes>"
      ]
     },
     "metadata": {
      "needs_background": "light"
     },
     "output_type": "display_data"
    },
    {
     "data": {
      "image/png": "[encoded data removed]",
      "text/plain": [
       "<Figure size 432x288 with 1 Axes>"
      ]
     },
     "metadata": {
      "needs_background": "light"
     },
     "output_type": "display_data"
    }
   ],
   "source": [
    "output_death,scaler_death=predict_over_n_years(model_death,df5.deaths,5,n_steps_death)\n",
    "plot_graph_predicted('deaths',output_death,scaler_death)\n",
    "\n",
    "output_birth,scaler_birth=predict_over_n_years(model_birth,df5.births,5,n_step_birth)\n",
    "plot_graph_predicted('births',output_birth,scaler_birth)\n",
    "\n",
    "output_imm,scaler_imm=predict_over_n_years(model_imm,df5.immigration,5,n_steps_imm)\n",
    "plot_graph_predicted('immigration',output_imm,scaler_imm)\n"
   ]
  },
  {
   "cell_type": "markdown",
   "id": "c90cdbca",
   "metadata": {
    "id": "c90cdbca"
   },
   "source": [
    "### Concatenate all the forecasted and the original results in a new DataFrame"
   ]
  },
  {
   "cell_type": "code",
   "execution_count": null,
   "id": "12159768",
   "metadata": {
    "id": "12159768"
   },
   "outputs": [],
   "source": [
    "def create_pandas_series(feature,output,scaler):\n",
    "    feature=str(feature).lower()\n",
    "    df=df5[feature]\n",
    "    my_list=df.tolist()\n",
    "    my_list.extend(scaler.inverse_transform(output))\n",
    "    my_list=np.array(my_list)\n",
    "    my_list=np.array(my_list).astype(int)\n",
    "    df=pd.Series(my_list)\n",
    "    return df"
   ]
  },
  {
   "cell_type": "code",
   "execution_count": null,
   "id": "ac39ae35",
   "metadata": {
    "colab": {
     "base_uri": "https://localhost:8080/"
    },
    "executionInfo": {
     "elapsed": 204,
     "status": "ok",
     "timestamp": 1652642007438,
     "user": {
      "displayName": "Mahdi Bazzi",
      "userId": "16390925910306107476"
     },
     "user_tz": -60
    },
    "id": "ac39ae35",
    "outputId": "8e81d815-d698-4f6c-ba3a-4c14a17c1d15"
   },
   "outputs": [
    {
     "name": "stderr",
     "output_type": "stream",
     "text": [
      "/usr/local/lib/python3.7/dist-packages/ipykernel_launcher.py:6: VisibleDeprecationWarning: Creating an ndarray from ragged nested sequences (which is a list-or-tuple of lists-or-tuples-or ndarrays with different lengths or shapes) is deprecated. If you meant to do this, you must specify 'dtype=object' when creating the ndarray.\n",
      "  \n",
      "/usr/local/lib/python3.7/dist-packages/ipykernel_launcher.py:6: VisibleDeprecationWarning: Creating an ndarray from ragged nested sequences (which is a list-or-tuple of lists-or-tuples-or ndarrays with different lengths or shapes) is deprecated. If you meant to do this, you must specify 'dtype=object' when creating the ndarray.\n",
      "  \n",
      "/usr/local/lib/python3.7/dist-packages/ipykernel_launcher.py:6: VisibleDeprecationWarning: Creating an ndarray from ragged nested sequences (which is a list-or-tuple of lists-or-tuples-or ndarrays with different lengths or shapes) is deprecated. If you meant to do this, you must specify 'dtype=object' when creating the ndarray.\n",
      "  \n"
     ]
    }
   ],
   "source": [
    "deaths=create_pandas_series('deaths',output_death,scaler_death)\n",
    "births=create_pandas_series('births',output_birth,scaler_birth)\n",
    "immigration=create_pandas_series('immigration',output_imm,scaler_imm)\n",
    "df_final=pd.concat([deaths,births,immigration],axis=1)\n",
    "df_final.columns=['deaths','births','immigration']\n",
    "time_final=pd.date_range(start='1981-1-1',periods=45,freq='y')\n",
    "df_final.index=pd.PeriodIndex(time_final)"
   ]
  },
  {
   "cell_type": "code",
   "execution_count": null,
   "id": "784ba48e",
   "metadata": {
    "colab": {
     "base_uri": "https://localhost:8080/",
     "height": 1000
    },
    "executionInfo": {
     "elapsed": 198,
     "status": "ok",
     "timestamp": 1652642009095,
     "user": {
      "displayName": "Mahdi Bazzi",
      "userId": "16390925910306107476"
     },
     "user_tz": -60
    },
    "id": "784ba48e",
    "outputId": "483505d3-14b8-4e8c-82a1-30bfab03ce99"
   },
   "outputs": [
    {
     "data": {
      "text/html": [
       "\n",
       "  <div id=\"df-e7136fad-487d-439e-bf96-071793052d4d\">\n",
       "    <div class=\"colab-df-container\">\n",
       "      <div>\n",
       "<style scoped>\n",
       "    .dataframe tbody tr th:only-of-type {\n",
       "        vertical-align: middle;\n",
       "    }\n",
       "\n",
       "    .dataframe tbody tr th {\n",
       "        vertical-align: top;\n",
       "    }\n",
       "\n",
       "    .dataframe thead th {\n",
       "        text-align: right;\n",
       "    }\n",
       "</style>\n",
       "<table border=\"1\" class=\"dataframe\">\n",
       "  <thead>\n",
       "    <tr style=\"text-align: right;\">\n",
       "      <th></th>\n",
       "      <th>deaths</th>\n",
       "      <th>births</th>\n",
       "      <th>immigration</th>\n",
       "    </tr>\n",
       "  </thead>\n",
       "  <tbody>\n",
       "    <tr>\n",
       "      <th>1981</th>\n",
       "      <td>63828</td>\n",
       "      <td>69054</td>\n",
       "      <td>-23100</td>\n",
       "    </tr>\n",
       "    <tr>\n",
       "      <th>1982</th>\n",
       "      <td>65022</td>\n",
       "      <td>66196</td>\n",
       "      <td>-16900</td>\n",
       "    </tr>\n",
       "    <tr>\n",
       "      <th>1983</th>\n",
       "      <td>63454</td>\n",
       "      <td>65078</td>\n",
       "      <td>-19700</td>\n",
       "    </tr>\n",
       "    <tr>\n",
       "      <th>1984</th>\n",
       "      <td>62345</td>\n",
       "      <td>65106</td>\n",
       "      <td>-12000</td>\n",
       "    </tr>\n",
       "    <tr>\n",
       "      <th>1985</th>\n",
       "      <td>63967</td>\n",
       "      <td>66676</td>\n",
       "      <td>-15000</td>\n",
       "    </tr>\n",
       "    <tr>\n",
       "      <th>1986</th>\n",
       "      <td>63467</td>\n",
       "      <td>65812</td>\n",
       "      <td>-17600</td>\n",
       "    </tr>\n",
       "    <tr>\n",
       "      <th>1987</th>\n",
       "      <td>62014</td>\n",
       "      <td>66241</td>\n",
       "      <td>-18000</td>\n",
       "    </tr>\n",
       "    <tr>\n",
       "      <th>1988</th>\n",
       "      <td>61957</td>\n",
       "      <td>66212</td>\n",
       "      <td>-27200</td>\n",
       "    </tr>\n",
       "    <tr>\n",
       "      <th>1989</th>\n",
       "      <td>65017</td>\n",
       "      <td>63480</td>\n",
       "      <td>-2900</td>\n",
       "    </tr>\n",
       "    <tr>\n",
       "      <th>1990</th>\n",
       "      <td>61527</td>\n",
       "      <td>65973</td>\n",
       "      <td>5000</td>\n",
       "    </tr>\n",
       "    <tr>\n",
       "      <th>1991</th>\n",
       "      <td>61041</td>\n",
       "      <td>67024</td>\n",
       "      <td>-1900</td>\n",
       "    </tr>\n",
       "    <tr>\n",
       "      <th>1992</th>\n",
       "      <td>60937</td>\n",
       "      <td>65789</td>\n",
       "      <td>-1900</td>\n",
       "    </tr>\n",
       "    <tr>\n",
       "      <th>1993</th>\n",
       "      <td>64049</td>\n",
       "      <td>63337</td>\n",
       "      <td>4700</td>\n",
       "    </tr>\n",
       "    <tr>\n",
       "      <th>1994</th>\n",
       "      <td>59328</td>\n",
       "      <td>61656</td>\n",
       "      <td>9400</td>\n",
       "    </tr>\n",
       "    <tr>\n",
       "      <th>1995</th>\n",
       "      <td>60500</td>\n",
       "      <td>60051</td>\n",
       "      <td>2400</td>\n",
       "    </tr>\n",
       "    <tr>\n",
       "      <th>1996</th>\n",
       "      <td>60654</td>\n",
       "      <td>59296</td>\n",
       "      <td>-7200</td>\n",
       "    </tr>\n",
       "    <tr>\n",
       "      <th>1997</th>\n",
       "      <td>59494</td>\n",
       "      <td>59440</td>\n",
       "      <td>-7500</td>\n",
       "    </tr>\n",
       "    <tr>\n",
       "      <th>1998</th>\n",
       "      <td>59164</td>\n",
       "      <td>57319</td>\n",
       "      <td>-5700</td>\n",
       "    </tr>\n",
       "    <tr>\n",
       "      <th>1999</th>\n",
       "      <td>60281</td>\n",
       "      <td>55147</td>\n",
       "      <td>-2200</td>\n",
       "    </tr>\n",
       "    <tr>\n",
       "      <th>2000</th>\n",
       "      <td>57799</td>\n",
       "      <td>53076</td>\n",
       "      <td>-3600</td>\n",
       "    </tr>\n",
       "    <tr>\n",
       "      <th>2001</th>\n",
       "      <td>57382</td>\n",
       "      <td>52527</td>\n",
       "      <td>5200</td>\n",
       "    </tr>\n",
       "    <tr>\n",
       "      <th>2002</th>\n",
       "      <td>58103</td>\n",
       "      <td>51270</td>\n",
       "      <td>6300</td>\n",
       "    </tr>\n",
       "    <tr>\n",
       "      <th>2003</th>\n",
       "      <td>58472</td>\n",
       "      <td>52432</td>\n",
       "      <td>5600</td>\n",
       "    </tr>\n",
       "    <tr>\n",
       "      <th>2004</th>\n",
       "      <td>56187</td>\n",
       "      <td>53957</td>\n",
       "      <td>18600</td>\n",
       "    </tr>\n",
       "    <tr>\n",
       "      <th>2005</th>\n",
       "      <td>55747</td>\n",
       "      <td>54386</td>\n",
       "      <td>25300</td>\n",
       "    </tr>\n",
       "    <tr>\n",
       "      <th>2006</th>\n",
       "      <td>55093</td>\n",
       "      <td>55690</td>\n",
       "      <td>18800</td>\n",
       "    </tr>\n",
       "    <tr>\n",
       "      <th>2007</th>\n",
       "      <td>55986</td>\n",
       "      <td>57781</td>\n",
       "      <td>33000</td>\n",
       "    </tr>\n",
       "    <tr>\n",
       "      <th>2008</th>\n",
       "      <td>55700</td>\n",
       "      <td>60041</td>\n",
       "      <td>26400</td>\n",
       "    </tr>\n",
       "    <tr>\n",
       "      <th>2009</th>\n",
       "      <td>53856</td>\n",
       "      <td>59046</td>\n",
       "      <td>24400</td>\n",
       "    </tr>\n",
       "    <tr>\n",
       "      <th>2010</th>\n",
       "      <td>53967</td>\n",
       "      <td>58791</td>\n",
       "      <td>26100</td>\n",
       "    </tr>\n",
       "    <tr>\n",
       "      <th>2011</th>\n",
       "      <td>53661</td>\n",
       "      <td>58590</td>\n",
       "      <td>30200</td>\n",
       "    </tr>\n",
       "    <tr>\n",
       "      <th>2012</th>\n",
       "      <td>54937</td>\n",
       "      <td>58027</td>\n",
       "      <td>12700</td>\n",
       "    </tr>\n",
       "    <tr>\n",
       "      <th>2013</th>\n",
       "      <td>54700</td>\n",
       "      <td>56014</td>\n",
       "      <td>10000</td>\n",
       "    </tr>\n",
       "    <tr>\n",
       "      <th>2014</th>\n",
       "      <td>54239</td>\n",
       "      <td>56725</td>\n",
       "      <td>17600</td>\n",
       "    </tr>\n",
       "    <tr>\n",
       "      <th>2015</th>\n",
       "      <td>57579</td>\n",
       "      <td>55098</td>\n",
       "      <td>28000</td>\n",
       "    </tr>\n",
       "    <tr>\n",
       "      <th>2016</th>\n",
       "      <td>56728</td>\n",
       "      <td>54488</td>\n",
       "      <td>31700</td>\n",
       "    </tr>\n",
       "    <tr>\n",
       "      <th>2017</th>\n",
       "      <td>57883</td>\n",
       "      <td>52861</td>\n",
       "      <td>23900</td>\n",
       "    </tr>\n",
       "    <tr>\n",
       "      <th>2018</th>\n",
       "      <td>58503</td>\n",
       "      <td>51308</td>\n",
       "      <td>20900</td>\n",
       "    </tr>\n",
       "    <tr>\n",
       "      <th>2019</th>\n",
       "      <td>58108</td>\n",
       "      <td>49863</td>\n",
       "      <td>30200</td>\n",
       "    </tr>\n",
       "    <tr>\n",
       "      <th>2020</th>\n",
       "      <td>64093</td>\n",
       "      <td>46809</td>\n",
       "      <td>16900</td>\n",
       "    </tr>\n",
       "    <tr>\n",
       "      <th>2021</th>\n",
       "      <td>58211</td>\n",
       "      <td>50652</td>\n",
       "      <td>21932</td>\n",
       "    </tr>\n",
       "    <tr>\n",
       "      <th>2022</th>\n",
       "      <td>58667</td>\n",
       "      <td>50003</td>\n",
       "      <td>21201</td>\n",
       "    </tr>\n",
       "    <tr>\n",
       "      <th>2023</th>\n",
       "      <td>59173</td>\n",
       "      <td>51800</td>\n",
       "      <td>21786</td>\n",
       "    </tr>\n",
       "    <tr>\n",
       "      <th>2024</th>\n",
       "      <td>57567</td>\n",
       "      <td>51931</td>\n",
       "      <td>17364</td>\n",
       "    </tr>\n",
       "    <tr>\n",
       "      <th>2025</th>\n",
       "      <td>57591</td>\n",
       "      <td>52931</td>\n",
       "      <td>18948</td>\n",
       "    </tr>\n",
       "  </tbody>\n",
       "</table>\n",
       "</div>\n",
       "      <button class=\"colab-df-convert\" onclick=\"convertToInteractive('df-e7136fad-487d-439e-bf96-071793052d4d')\"\n",
       "              title=\"Convert this dataframe to an interactive table.\"\n",
       "              style=\"display:none;\">\n",
       "        \n",
       "  <svg xmlns=\"http://www.w3.org/2000/svg\" height=\"24px\"viewBox=\"0 0 24 24\"\n",
       "       width=\"24px\">\n",
       "    <path d=\"M0 0h24v24H0V0z\" fill=\"none\"/>\n",
       "    <path d=\"M18.56 5.44l.94 2.06.94-2.06 2.06-.94-2.06-.94-.94-2.06-.94 2.06-2.06.94zm-11 1L8.5 8.5l.94-2.06 2.06-.94-2.06-.94L8.5 2.5l-.94 2.06-2.06.94zm10 10l.94 2.06.94-2.06 2.06-.94-2.06-.94-.94-2.06-.94 2.06-2.06.94z\"/><path d=\"M17.41 7.96l-1.37-1.37c-.4-.4-.92-.59-1.43-.59-.52 0-1.04.2-1.43.59L10.3 9.45l-7.72 7.72c-.78.78-.78 2.05 0 2.83L4 21.41c.39.39.9.59 1.41.59.51 0 1.02-.2 1.41-.59l7.78-7.78 2.81-2.81c.8-.78.8-2.07 0-2.86zM5.41 20L4 18.59l7.72-7.72 1.47 1.35L5.41 20z\"/>\n",
       "  </svg>\n",
       "      </button>\n",
       "      \n",
       "  <style>\n",
       "    .colab-df-container {\n",
       "      display:flex;\n",
       "      flex-wrap:wrap;\n",
       "      gap: 12px;\n",
       "    }\n",
       "\n",
       "    .colab-df-convert {\n",
       "      background-color: #E8F0FE;\n",
       "      border: none;\n",
       "      border-radius: 50%;\n",
       "      cursor: pointer;\n",
       "      display: none;\n",
       "      fill: #1967D2;\n",
       "      height: 32px;\n",
       "      padding: 0 0 0 0;\n",
       "      width: 32px;\n",
       "    }\n",
       "\n",
       "    .colab-df-convert:hover {\n",
       "      background-color: #E2EBFA;\n",
       "      box-shadow: 0px 1px 2px rgba(60, 64, 67, 0.3), 0px 1px 3px 1px rgba(60, 64, 67, 0.15);\n",
       "      fill: #174EA6;\n",
       "    }\n",
       "\n",
       "    [theme=dark] .colab-df-convert {\n",
       "      background-color: #3B4455;\n",
       "      fill: #D2E3FC;\n",
       "    }\n",
       "\n",
       "    [theme=dark] .colab-df-convert:hover {\n",
       "      background-color: #434B5C;\n",
       "      box-shadow: 0px 1px 3px 1px rgba(0, 0, 0, 0.15);\n",
       "      filter: drop-shadow(0px 1px 2px rgba(0, 0, 0, 0.3));\n",
       "      fill: #FFFFFF;\n",
       "    }\n",
       "  </style>\n",
       "\n",
       "      <script>\n",
       "        const buttonEl =\n",
       "          document.querySelector('#df-e7136fad-487d-439e-bf96-071793052d4d button.colab-df-convert');\n",
       "        buttonEl.style.display =\n",
       "          google.colab.kernel.accessAllowed ? 'block' : 'none';\n",
       "\n",
       "        async function convertToInteractive(key) {\n",
       "          const element = document.querySelector('#df-e7136fad-487d-439e-bf96-071793052d4d');\n",
       "          const dataTable =\n",
       "            await google.colab.kernel.invokeFunction('convertToInteractive',\n",
       "                                                     [key], {});\n",
       "          if (!dataTable) return;\n",
       "\n",
       "          const docLinkHtml = 'Like what you see? Visit the ' +\n",
       "            '<a target=\"_blank\" href=https://colab.research.google.com/notebooks/data_table.ipynb>data table notebook</a>'\n",
       "            + ' to learn more about interactive tables.';\n",
       "          element.innerHTML = '';\n",
       "          dataTable['output_type'] = 'display_data';\n",
       "          await google.colab.output.renderOutput(dataTable, element);\n",
       "          const docLink = document.createElement('div');\n",
       "          docLink.innerHTML = docLinkHtml;\n",
       "          element.appendChild(docLink);\n",
       "        }\n",
       "      </script>\n",
       "    </div>\n",
       "  </div>\n",
       "  "
      ],
      "text/plain": [
       "      deaths  births  immigration\n",
       "1981   63828   69054       -23100\n",
       "1982   65022   66196       -16900\n",
       "1983   63454   65078       -19700\n",
       "1984   62345   65106       -12000\n",
       "1985   63967   66676       -15000\n",
       "1986   63467   65812       -17600\n",
       "1987   62014   66241       -18000\n",
       "1988   61957   66212       -27200\n",
       "1989   65017   63480        -2900\n",
       "1990   61527   65973         5000\n",
       "1991   61041   67024        -1900\n",
       "1992   60937   65789        -1900\n",
       "1993   64049   63337         4700\n",
       "1994   59328   61656         9400\n",
       "1995   60500   60051         2400\n",
       "1996   60654   59296        -7200\n",
       "1997   59494   59440        -7500\n",
       "1998   59164   57319        -5700\n",
       "1999   60281   55147        -2200\n",
       "2000   57799   53076        -3600\n",
       "2001   57382   52527         5200\n",
       "2002   58103   51270         6300\n",
       "2003   58472   52432         5600\n",
       "2004   56187   53957        18600\n",
       "2005   55747   54386        25300\n",
       "2006   55093   55690        18800\n",
       "2007   55986   57781        33000\n",
       "2008   55700   60041        26400\n",
       "2009   53856   59046        24400\n",
       "2010   53967   58791        26100\n",
       "2011   53661   58590        30200\n",
       "2012   54937   58027        12700\n",
       "2013   54700   56014        10000\n",
       "2014   54239   56725        17600\n",
       "2015   57579   55098        28000\n",
       "2016   56728   54488        31700\n",
       "2017   57883   52861        23900\n",
       "2018   58503   51308        20900\n",
       "2019   58108   49863        30200\n",
       "2020   64093   46809        16900\n",
       "2021   58211   50652        21932\n",
       "2022   58667   50003        21201\n",
       "2023   59173   51800        21786\n",
       "2024   57567   51931        17364\n",
       "2025   57591   52931        18948"
      ]
     },
     "execution_count": 41,
     "metadata": {},
     "output_type": "execute_result"
    }
   ],
   "source": [
    "df_final"
   ]
  },
  {
   "cell_type": "markdown",
   "id": "b1ab3e63",
   "metadata": {
    "id": "b1ab3e63"
   },
   "source": [
    "### population is summation of births,earlier population and immigration with subtraction of deaths so it will be calculated and not forcasted\n"
   ]
  },
  {
   "cell_type": "code",
   "execution_count": null,
   "id": "394c3a9c",
   "metadata": {
    "colab": {
     "base_uri": "https://localhost:8080/"
    },
    "executionInfo": {
     "elapsed": 245,
     "status": "ok",
     "timestamp": 1652642013222,
     "user": {
      "displayName": "Mahdi Bazzi",
      "userId": "16390925910306107476"
     },
     "user_tz": -60
    },
    "id": "394c3a9c",
    "outputId": "9cf19090-8c6d-4a59-cf6a-4c594a990394"
   },
   "outputs": [
    {
     "name": "stderr",
     "output_type": "stream",
     "text": [
      "/usr/local/lib/python3.7/dist-packages/pandas/core/indexing.py:1732: SettingWithCopyWarning: \n",
      "A value is trying to be set on a copy of a slice from a DataFrame\n",
      "\n",
      "See the caveats in the documentation: https://pandas.pydata.org/pandas-docs/stable/user_guide/indexing.html#returning-a-view-versus-a-copy\n",
      "  self._setitem_single_block(indexer, value, name)\n"
     ]
    }
   ],
   "source": [
    "df_final['Population']=df5.population\n",
    "df_final['past_population']=df_final.Population.shift(1)\n",
    "for i in range(40,45):\n",
    "    df_final.Population.iloc[i]=df_final.immigration.iloc[i]+df_final.births.iloc[i]-df_final.deaths.iloc[i]+df_final.past_population.iloc[i]\n",
    "    df_final['past_population']=df_final.Population.shift(1)\n",
    "df_final.drop('past_population',axis=1,inplace=True)"
   ]
  },
  {
   "cell_type": "code",
   "execution_count": null,
   "id": "198ec58b",
   "metadata": {
    "colab": {
     "base_uri": "https://localhost:8080/",
     "height": 1000
    },
    "executionInfo": {
     "elapsed": 219,
     "status": "ok",
     "timestamp": 1652642014595,
     "user": {
      "displayName": "Mahdi Bazzi",
      "userId": "16390925910306107476"
     },
     "user_tz": -60
    },
    "id": "198ec58b",
    "outputId": "9e69b342-2633-4792-c2af-40c4f8647753"
   },
   "outputs": [
    {
     "data": {
      "text/html": [
       "\n",
       "  <div id=\"df-e316b337-880a-4eca-b370-caf4f1d65258\">\n",
       "    <div class=\"colab-df-container\">\n",
       "      <div>\n",
       "<style scoped>\n",
       "    .dataframe tbody tr th:only-of-type {\n",
       "        vertical-align: middle;\n",
       "    }\n",
       "\n",
       "    .dataframe tbody tr th {\n",
       "        vertical-align: top;\n",
       "    }\n",
       "\n",
       "    .dataframe thead th {\n",
       "        text-align: right;\n",
       "    }\n",
       "</style>\n",
       "<table border=\"1\" class=\"dataframe\">\n",
       "  <thead>\n",
       "    <tr style=\"text-align: right;\">\n",
       "      <th></th>\n",
       "      <th>deaths</th>\n",
       "      <th>births</th>\n",
       "      <th>immigration</th>\n",
       "      <th>Population</th>\n",
       "    </tr>\n",
       "  </thead>\n",
       "  <tbody>\n",
       "    <tr>\n",
       "      <th>1981</th>\n",
       "      <td>63828</td>\n",
       "      <td>69054</td>\n",
       "      <td>-23100</td>\n",
       "      <td>5180200.0</td>\n",
       "    </tr>\n",
       "    <tr>\n",
       "      <th>1982</th>\n",
       "      <td>65022</td>\n",
       "      <td>66196</td>\n",
       "      <td>-16900</td>\n",
       "      <td>5164540.0</td>\n",
       "    </tr>\n",
       "    <tr>\n",
       "      <th>1983</th>\n",
       "      <td>63454</td>\n",
       "      <td>65078</td>\n",
       "      <td>-19700</td>\n",
       "      <td>5148120.0</td>\n",
       "    </tr>\n",
       "    <tr>\n",
       "      <th>1984</th>\n",
       "      <td>62345</td>\n",
       "      <td>65106</td>\n",
       "      <td>-12000</td>\n",
       "      <td>5138880.0</td>\n",
       "    </tr>\n",
       "    <tr>\n",
       "      <th>1985</th>\n",
       "      <td>63967</td>\n",
       "      <td>66676</td>\n",
       "      <td>-15000</td>\n",
       "      <td>5127890.0</td>\n",
       "    </tr>\n",
       "    <tr>\n",
       "      <th>1986</th>\n",
       "      <td>63467</td>\n",
       "      <td>65812</td>\n",
       "      <td>-17600</td>\n",
       "      <td>5111760.0</td>\n",
       "    </tr>\n",
       "    <tr>\n",
       "      <th>1987</th>\n",
       "      <td>62014</td>\n",
       "      <td>66241</td>\n",
       "      <td>-18000</td>\n",
       "      <td>5099020.0</td>\n",
       "    </tr>\n",
       "    <tr>\n",
       "      <th>1988</th>\n",
       "      <td>61957</td>\n",
       "      <td>66212</td>\n",
       "      <td>-27200</td>\n",
       "      <td>5077440.0</td>\n",
       "    </tr>\n",
       "    <tr>\n",
       "      <th>1989</th>\n",
       "      <td>65017</td>\n",
       "      <td>63480</td>\n",
       "      <td>-2900</td>\n",
       "      <td>5078190.0</td>\n",
       "    </tr>\n",
       "    <tr>\n",
       "      <th>1990</th>\n",
       "      <td>61527</td>\n",
       "      <td>65973</td>\n",
       "      <td>5000</td>\n",
       "      <td>5081270.0</td>\n",
       "    </tr>\n",
       "    <tr>\n",
       "      <th>1991</th>\n",
       "      <td>61041</td>\n",
       "      <td>67024</td>\n",
       "      <td>-1900</td>\n",
       "      <td>5083330.0</td>\n",
       "    </tr>\n",
       "    <tr>\n",
       "      <th>1992</th>\n",
       "      <td>60937</td>\n",
       "      <td>65789</td>\n",
       "      <td>-1900</td>\n",
       "      <td>5085620.0</td>\n",
       "    </tr>\n",
       "    <tr>\n",
       "      <th>1993</th>\n",
       "      <td>64049</td>\n",
       "      <td>63337</td>\n",
       "      <td>4700</td>\n",
       "      <td>5092460.0</td>\n",
       "    </tr>\n",
       "    <tr>\n",
       "      <th>1994</th>\n",
       "      <td>59328</td>\n",
       "      <td>61656</td>\n",
       "      <td>9400</td>\n",
       "      <td>5102210.0</td>\n",
       "    </tr>\n",
       "    <tr>\n",
       "      <th>1995</th>\n",
       "      <td>60500</td>\n",
       "      <td>60051</td>\n",
       "      <td>2400</td>\n",
       "      <td>5103690.0</td>\n",
       "    </tr>\n",
       "    <tr>\n",
       "      <th>1996</th>\n",
       "      <td>60654</td>\n",
       "      <td>59296</td>\n",
       "      <td>-7200</td>\n",
       "      <td>5092190.0</td>\n",
       "    </tr>\n",
       "    <tr>\n",
       "      <th>1997</th>\n",
       "      <td>59494</td>\n",
       "      <td>59440</td>\n",
       "      <td>-7500</td>\n",
       "      <td>5083340.0</td>\n",
       "    </tr>\n",
       "    <tr>\n",
       "      <th>1998</th>\n",
       "      <td>59164</td>\n",
       "      <td>57319</td>\n",
       "      <td>-5700</td>\n",
       "      <td>5077070.0</td>\n",
       "    </tr>\n",
       "    <tr>\n",
       "      <th>1999</th>\n",
       "      <td>60281</td>\n",
       "      <td>55147</td>\n",
       "      <td>-2200</td>\n",
       "      <td>5071950.0</td>\n",
       "    </tr>\n",
       "    <tr>\n",
       "      <th>2000</th>\n",
       "      <td>57799</td>\n",
       "      <td>53076</td>\n",
       "      <td>-3600</td>\n",
       "      <td>5062940.0</td>\n",
       "    </tr>\n",
       "    <tr>\n",
       "      <th>2001</th>\n",
       "      <td>57382</td>\n",
       "      <td>52527</td>\n",
       "      <td>5200</td>\n",
       "      <td>5064200.0</td>\n",
       "    </tr>\n",
       "    <tr>\n",
       "      <th>2002</th>\n",
       "      <td>58103</td>\n",
       "      <td>51270</td>\n",
       "      <td>6300</td>\n",
       "      <td>5066000.0</td>\n",
       "    </tr>\n",
       "    <tr>\n",
       "      <th>2003</th>\n",
       "      <td>58472</td>\n",
       "      <td>52432</td>\n",
       "      <td>5600</td>\n",
       "      <td>5068500.0</td>\n",
       "    </tr>\n",
       "    <tr>\n",
       "      <th>2004</th>\n",
       "      <td>56187</td>\n",
       "      <td>53957</td>\n",
       "      <td>18600</td>\n",
       "      <td>5084300.0</td>\n",
       "    </tr>\n",
       "    <tr>\n",
       "      <th>2005</th>\n",
       "      <td>55747</td>\n",
       "      <td>54386</td>\n",
       "      <td>25300</td>\n",
       "      <td>5110200.0</td>\n",
       "    </tr>\n",
       "    <tr>\n",
       "      <th>2006</th>\n",
       "      <td>55093</td>\n",
       "      <td>55690</td>\n",
       "      <td>18800</td>\n",
       "      <td>5133000.0</td>\n",
       "    </tr>\n",
       "    <tr>\n",
       "      <th>2007</th>\n",
       "      <td>55986</td>\n",
       "      <td>57781</td>\n",
       "      <td>33000</td>\n",
       "      <td>5170000.0</td>\n",
       "    </tr>\n",
       "    <tr>\n",
       "      <th>2008</th>\n",
       "      <td>55700</td>\n",
       "      <td>60041</td>\n",
       "      <td>26400</td>\n",
       "      <td>5202900.0</td>\n",
       "    </tr>\n",
       "    <tr>\n",
       "      <th>2009</th>\n",
       "      <td>53856</td>\n",
       "      <td>59046</td>\n",
       "      <td>24400</td>\n",
       "      <td>5231900.0</td>\n",
       "    </tr>\n",
       "    <tr>\n",
       "      <th>2010</th>\n",
       "      <td>53967</td>\n",
       "      <td>58791</td>\n",
       "      <td>26100</td>\n",
       "      <td>5262200.0</td>\n",
       "    </tr>\n",
       "    <tr>\n",
       "      <th>2011</th>\n",
       "      <td>53661</td>\n",
       "      <td>58590</td>\n",
       "      <td>30200</td>\n",
       "      <td>5299900.0</td>\n",
       "    </tr>\n",
       "    <tr>\n",
       "      <th>2012</th>\n",
       "      <td>54937</td>\n",
       "      <td>58027</td>\n",
       "      <td>12700</td>\n",
       "      <td>5313600.0</td>\n",
       "    </tr>\n",
       "    <tr>\n",
       "      <th>2013</th>\n",
       "      <td>54700</td>\n",
       "      <td>56014</td>\n",
       "      <td>10000</td>\n",
       "      <td>5327700.0</td>\n",
       "    </tr>\n",
       "    <tr>\n",
       "      <th>2014</th>\n",
       "      <td>54239</td>\n",
       "      <td>56725</td>\n",
       "      <td>17600</td>\n",
       "      <td>5347600.0</td>\n",
       "    </tr>\n",
       "    <tr>\n",
       "      <th>2015</th>\n",
       "      <td>57579</td>\n",
       "      <td>55098</td>\n",
       "      <td>28000</td>\n",
       "      <td>5373000.0</td>\n",
       "    </tr>\n",
       "    <tr>\n",
       "      <th>2016</th>\n",
       "      <td>56728</td>\n",
       "      <td>54488</td>\n",
       "      <td>31700</td>\n",
       "      <td>5404700.0</td>\n",
       "    </tr>\n",
       "    <tr>\n",
       "      <th>2017</th>\n",
       "      <td>57883</td>\n",
       "      <td>52861</td>\n",
       "      <td>23900</td>\n",
       "      <td>5424800.0</td>\n",
       "    </tr>\n",
       "    <tr>\n",
       "      <th>2018</th>\n",
       "      <td>58503</td>\n",
       "      <td>51308</td>\n",
       "      <td>20900</td>\n",
       "      <td>5438100.0</td>\n",
       "    </tr>\n",
       "    <tr>\n",
       "      <th>2019</th>\n",
       "      <td>58108</td>\n",
       "      <td>49863</td>\n",
       "      <td>30200</td>\n",
       "      <td>5463300.0</td>\n",
       "    </tr>\n",
       "    <tr>\n",
       "      <th>2020</th>\n",
       "      <td>64093</td>\n",
       "      <td>46809</td>\n",
       "      <td>16900</td>\n",
       "      <td>5466000.0</td>\n",
       "    </tr>\n",
       "    <tr>\n",
       "      <th>2021</th>\n",
       "      <td>58211</td>\n",
       "      <td>50652</td>\n",
       "      <td>21932</td>\n",
       "      <td>5480373.0</td>\n",
       "    </tr>\n",
       "    <tr>\n",
       "      <th>2022</th>\n",
       "      <td>58667</td>\n",
       "      <td>50003</td>\n",
       "      <td>21201</td>\n",
       "      <td>5492910.0</td>\n",
       "    </tr>\n",
       "    <tr>\n",
       "      <th>2023</th>\n",
       "      <td>59173</td>\n",
       "      <td>51800</td>\n",
       "      <td>21786</td>\n",
       "      <td>5507323.0</td>\n",
       "    </tr>\n",
       "    <tr>\n",
       "      <th>2024</th>\n",
       "      <td>57567</td>\n",
       "      <td>51931</td>\n",
       "      <td>17364</td>\n",
       "      <td>5519051.0</td>\n",
       "    </tr>\n",
       "    <tr>\n",
       "      <th>2025</th>\n",
       "      <td>57591</td>\n",
       "      <td>52931</td>\n",
       "      <td>18948</td>\n",
       "      <td>5533339.0</td>\n",
       "    </tr>\n",
       "  </tbody>\n",
       "</table>\n",
       "</div>\n",
       "      <button class=\"colab-df-convert\" onclick=\"convertToInteractive('df-e316b337-880a-4eca-b370-caf4f1d65258')\"\n",
       "              title=\"Convert this dataframe to an interactive table.\"\n",
       "              style=\"display:none;\">\n",
       "        \n",
       "  <svg xmlns=\"http://www.w3.org/2000/svg\" height=\"24px\"viewBox=\"0 0 24 24\"\n",
       "       width=\"24px\">\n",
       "    <path d=\"M0 0h24v24H0V0z\" fill=\"none\"/>\n",
       "    <path d=\"M18.56 5.44l.94 2.06.94-2.06 2.06-.94-2.06-.94-.94-2.06-.94 2.06-2.06.94zm-11 1L8.5 8.5l.94-2.06 2.06-.94-2.06-.94L8.5 2.5l-.94 2.06-2.06.94zm10 10l.94 2.06.94-2.06 2.06-.94-2.06-.94-.94-2.06-.94 2.06-2.06.94z\"/><path d=\"M17.41 7.96l-1.37-1.37c-.4-.4-.92-.59-1.43-.59-.52 0-1.04.2-1.43.59L10.3 9.45l-7.72 7.72c-.78.78-.78 2.05 0 2.83L4 21.41c.39.39.9.59 1.41.59.51 0 1.02-.2 1.41-.59l7.78-7.78 2.81-2.81c.8-.78.8-2.07 0-2.86zM5.41 20L4 18.59l7.72-7.72 1.47 1.35L5.41 20z\"/>\n",
       "  </svg>\n",
       "      </button>\n",
       "      \n",
       "  <style>\n",
       "    .colab-df-container {\n",
       "      display:flex;\n",
       "      flex-wrap:wrap;\n",
       "      gap: 12px;\n",
       "    }\n",
       "\n",
       "    .colab-df-convert {\n",
       "      background-color: #E8F0FE;\n",
       "      border: none;\n",
       "      border-radius: 50%;\n",
       "      cursor: pointer;\n",
       "      display: none;\n",
       "      fill: #1967D2;\n",
       "      height: 32px;\n",
       "      padding: 0 0 0 0;\n",
       "      width: 32px;\n",
       "    }\n",
       "\n",
       "    .colab-df-convert:hover {\n",
       "      background-color: #E2EBFA;\n",
       "      box-shadow: 0px 1px 2px rgba(60, 64, 67, 0.3), 0px 1px 3px 1px rgba(60, 64, 67, 0.15);\n",
       "      fill: #174EA6;\n",
       "    }\n",
       "\n",
       "    [theme=dark] .colab-df-convert {\n",
       "      background-color: #3B4455;\n",
       "      fill: #D2E3FC;\n",
       "    }\n",
       "\n",
       "    [theme=dark] .colab-df-convert:hover {\n",
       "      background-color: #434B5C;\n",
       "      box-shadow: 0px 1px 3px 1px rgba(0, 0, 0, 0.15);\n",
       "      filter: drop-shadow(0px 1px 2px rgba(0, 0, 0, 0.3));\n",
       "      fill: #FFFFFF;\n",
       "    }\n",
       "  </style>\n",
       "\n",
       "      <script>\n",
       "        const buttonEl =\n",
       "          document.querySelector('#df-e316b337-880a-4eca-b370-caf4f1d65258 button.colab-df-convert');\n",
       "        buttonEl.style.display =\n",
       "          google.colab.kernel.accessAllowed ? 'block' : 'none';\n",
       "\n",
       "        async function convertToInteractive(key) {\n",
       "          const element = document.querySelector('#df-e316b337-880a-4eca-b370-caf4f1d65258');\n",
       "          const dataTable =\n",
       "            await google.colab.kernel.invokeFunction('convertToInteractive',\n",
       "                                                     [key], {});\n",
       "          if (!dataTable) return;\n",
       "\n",
       "          const docLinkHtml = 'Like what you see? Visit the ' +\n",
       "            '<a target=\"_blank\" href=https://colab.research.google.com/notebooks/data_table.ipynb>data table notebook</a>'\n",
       "            + ' to learn more about interactive tables.';\n",
       "          element.innerHTML = '';\n",
       "          dataTable['output_type'] = 'display_data';\n",
       "          await google.colab.output.renderOutput(dataTable, element);\n",
       "          const docLink = document.createElement('div');\n",
       "          docLink.innerHTML = docLinkHtml;\n",
       "          element.appendChild(docLink);\n",
       "        }\n",
       "      </script>\n",
       "    </div>\n",
       "  </div>\n",
       "  "
      ],
      "text/plain": [
       "      deaths  births  immigration  Population\n",
       "1981   63828   69054       -23100   5180200.0\n",
       "1982   65022   66196       -16900   5164540.0\n",
       "1983   63454   65078       -19700   5148120.0\n",
       "1984   62345   65106       -12000   5138880.0\n",
       "1985   63967   66676       -15000   5127890.0\n",
       "1986   63467   65812       -17600   5111760.0\n",
       "1987   62014   66241       -18000   5099020.0\n",
       "1988   61957   66212       -27200   5077440.0\n",
       "1989   65017   63480        -2900   5078190.0\n",
       "1990   61527   65973         5000   5081270.0\n",
       "1991   61041   67024        -1900   5083330.0\n",
       "1992   60937   65789        -1900   5085620.0\n",
       "1993   64049   63337         4700   5092460.0\n",
       "1994   59328   61656         9400   5102210.0\n",
       "1995   60500   60051         2400   5103690.0\n",
       "1996   60654   59296        -7200   5092190.0\n",
       "1997   59494   59440        -7500   5083340.0\n",
       "1998   59164   57319        -5700   5077070.0\n",
       "1999   60281   55147        -2200   5071950.0\n",
       "2000   57799   53076        -3600   5062940.0\n",
       "2001   57382   52527         5200   5064200.0\n",
       "2002   58103   51270         6300   5066000.0\n",
       "2003   58472   52432         5600   5068500.0\n",
       "2004   56187   53957        18600   5084300.0\n",
       "2005   55747   54386        25300   5110200.0\n",
       "2006   55093   55690        18800   5133000.0\n",
       "2007   55986   57781        33000   5170000.0\n",
       "2008   55700   60041        26400   5202900.0\n",
       "2009   53856   59046        24400   5231900.0\n",
       "2010   53967   58791        26100   5262200.0\n",
       "2011   53661   58590        30200   5299900.0\n",
       "2012   54937   58027        12700   5313600.0\n",
       "2013   54700   56014        10000   5327700.0\n",
       "2014   54239   56725        17600   5347600.0\n",
       "2015   57579   55098        28000   5373000.0\n",
       "2016   56728   54488        31700   5404700.0\n",
       "2017   57883   52861        23900   5424800.0\n",
       "2018   58503   51308        20900   5438100.0\n",
       "2019   58108   49863        30200   5463300.0\n",
       "2020   64093   46809        16900   5466000.0\n",
       "2021   58211   50652        21932   5480373.0\n",
       "2022   58667   50003        21201   5492910.0\n",
       "2023   59173   51800        21786   5507323.0\n",
       "2024   57567   51931        17364   5519051.0\n",
       "2025   57591   52931        18948   5533339.0"
      ]
     },
     "execution_count": 43,
     "metadata": {},
     "output_type": "execute_result"
    }
   ],
   "source": [
    "df_final"
   ]
  },
  {
   "cell_type": "code",
   "execution_count": null,
   "id": "001f272b",
   "metadata": {
    "colab": {
     "base_uri": "https://localhost:8080/",
     "height": 293
    },
    "executionInfo": {
     "elapsed": 552,
     "status": "ok",
     "timestamp": 1652642020601,
     "user": {
      "displayName": "Mahdi Bazzi",
      "userId": "16390925910306107476"
     },
     "user_tz": -60
    },
    "id": "001f272b",
    "outputId": "279e6462-2da4-4538-cbfc-12dbcd922b25"
   },
   "outputs": [
    {
     "data": {
      "text/plain": [
       "<matplotlib.axes._subplots.AxesSubplot at 0x7fc466a71250>"
      ]
     },
     "execution_count": 44,
     "metadata": {},
     "output_type": "execute_result"
    },
    {
     "data": {
      "image/png": "[encoded data removed]",
      "text/plain": [
       "<Figure size 432x288 with 1 Axes>"
      ]
     },
     "metadata": {
      "needs_background": "light"
     },
     "output_type": "display_data"
    }
   ],
   "source": [
    "df_final.Population.plot()"
   ]
  },
  {
   "cell_type": "markdown",
   "id": "ee9a1b08",
   "metadata": {
    "id": "ee9a1b08"
   },
   "source": [
    "# Save the file to csv file in order to load into powerbi and make an interactive dashboard\n"
   ]
  },
  {
   "cell_type": "code",
   "execution_count": null,
   "id": "7478c6ab",
   "metadata": {
    "id": "7478c6ab"
   },
   "outputs": [],
   "source": [
    "df_final.to_csv('final_dataset.csv')"
   ]
  }
 ],
 "metadata": {
  "colab": {
   "collapsed_sections": [],
   "name": "assignment 2 (5th edition).ipynb",
   "provenance": []
  },
  "kernelspec": {
   "display_name": "Python 3 (ipykernel)",
   "language": "python",
   "name": "python3"
  },
  "language_info": {
   "codemirror_mode": {
    "name": "ipython",
    "version": 3
   },
   "file_extension": ".py",
   "mimetype": "text/x-python",
   "name": "python",
   "nbconvert_exporter": "python",
   "pygments_lexer": "ipython3",
   "version": "3.9.7"
  }
 },
 "nbformat": 4,
 "nbformat_minor": 5
}
